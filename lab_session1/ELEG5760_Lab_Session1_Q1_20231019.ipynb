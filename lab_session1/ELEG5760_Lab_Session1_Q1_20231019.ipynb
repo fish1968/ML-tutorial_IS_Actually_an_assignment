{
 "cells": [
  {
   "cell_type": "markdown",
   "id": "58b1ee60",
   "metadata": {},
   "source": [
    "## Q0: (0 point) \n",
    "- Please install Anaconda on your own PC or the PC in the lab. (Download link: https://www.anaconda.com/download/ )\n",
    "- Please install related Python3 packages: numpy, scikit-learn, jupyter (pip3 install numpy, scikit-learn, jupyter)"
   ]
  },
  {
   "cell_type": "markdown",
   "id": "08f43afb",
   "metadata": {},
   "source": [
    "## Q1: (100 point) \n",
    "Use NumPy module to define and operation the following operations on matrices and vectors. Please readme the following example and answer sub-questions 1-5 in jupyter notebook."
   ]
  },
  {
   "cell_type": "markdown",
   "id": "0e89020a",
   "metadata": {},
   "source": [
    "### Example for Q1\n",
    "#### Question: \n",
    "- Calculate the matrix multiplication between random matrix A (shape 6x3) and random matrix B (shape 3x5)"
   ]
  },
  {
   "cell_type": "code",
   "execution_count": 92,
   "id": "084bfd20",
   "metadata": {},
   "outputs": [
    {
     "name": "stdout",
     "output_type": "stream",
     "text": [
      "(6, 5)\n",
      "[[0.38729243 0.61171315 0.95849503 0.57728964 0.86146276]\n",
      " [0.70877114 0.45227887 0.65870666 0.38395736 0.59080964]\n",
      " [0.58765112 0.58414883 0.77618487 0.53650593 0.85466202]\n",
      " [0.89367681 0.84143152 1.09040748 0.7694417  1.23679366]\n",
      " [0.57481654 0.43690261 0.5103331  0.391045   0.65113282]\n",
      " [1.00498923 0.57637771 0.92034809 0.4729711  0.69605955]]\n"
     ]
    }
   ],
   "source": [
    "import numpy as np\n",
    "# 1. Generate random matrix A and B\n",
    "rng = np.random.default_rng(12345) # random number generator\n",
    "\n",
    "a = rng.random((6,3))\n",
    "b = rng.random((3,5))\n",
    "\n",
    "# 2. Execute matrix multiplication and assign the result to matrix C\n",
    "c = np.matmul(a, b)\n",
    "# 3. Print the shape and value of C\n",
    "print(c.shape)\n",
    "print(c)\n"
   ]
  },
  {
   "cell_type": "markdown",
   "id": "be406c00",
   "metadata": {},
   "source": [
    "### (1) Define NumPy Array\n",
    "#### Question: \n",
    "- Use NumPy to define the following matrix A and vector b, then print A and b\n",
    "$$\n",
    " A = \n",
    " \\begin{bmatrix}\n",
    "   1 & 7 & 3 & 3\\\\\n",
    "   4 & 9 & 6 & 1\\\\\n",
    "   2 & 8 & 5 & 4\n",
    "  \\end{bmatrix},\n",
    "   b =\n",
    " \\begin{bmatrix}\n",
    "   7 \\\\\n",
    "   4 \\\\\n",
    "   1 \\\\\n",
    "  \\end{bmatrix}\n",
    "$$\n"
   ]
  },
  {
   "cell_type": "code",
   "execution_count": 93,
   "id": "f8b99105",
   "metadata": {},
   "outputs": [
    {
     "name": "stdout",
     "output_type": "stream",
     "text": [
      "A is \n",
      " [[1 7 3 3]\n",
      " [4 9 6 1]\n",
      " [2 8 5 4]]\n",
      "b is \n",
      " [[7]\n",
      " [4]\n",
      " [1]]\n"
     ]
    }
   ],
   "source": [
    "# Answer to sub-question 1\n",
    "A = np.matrix([[1, 7, 3, 3], [4, 9, 6, 1], [2, 8, 5, 4]]) # build a matrix of 3 by 4\n",
    "b = np.array([[7],[4],[1]])\n",
    "print (\"A is \\n\", A)\n",
    "print(\"b is \\n\", b)\n"
   ]
  },
  {
   "cell_type": "markdown",
   "id": "e04cbe99",
   "metadata": {},
   "source": [
    "### (2) Basic Mathematical Operation\n",
    "#### Question:  \n",
    "- Mulitply a scalar 3 and substract a scalar 6 to each element in A, then print the new result matrix."
   ]
  },
  {
   "cell_type": "code",
   "execution_count": 94,
   "id": "969cdfc4",
   "metadata": {},
   "outputs": [
    {
     "name": "stdout",
     "output_type": "stream",
     "text": [
      "Origin A Matrix\n",
      "[[1 7 3 3]\n",
      " [4 9 6 1]\n",
      " [2 8 5 4]]\n",
      "Result of manipulation with A\n",
      "[[-3 15  3  3]\n",
      " [ 6 21 12 -3]\n",
      " [ 0 18  9  6]]\n"
     ]
    }
   ],
   "source": [
    "# Answer to sub-question 2\n",
    "print(\"Origin A Matrix\")\n",
    "print(A)\n",
    "# Multiply A by 3\n",
    "# print(A)\n",
    "# print(np.ones(A.shape, dtype=int))\n",
    "# Substract 6 from each element of A \n",
    "result = A * 3 - np.ones(A.shape, dtype=int)*6\n",
    "\n",
    "print(\"Result of manipulation with A\")\n",
    "print(result)\n"
   ]
  },
  {
   "cell_type": "markdown",
   "id": "523f56ed",
   "metadata": {},
   "source": [
    "### (3) Broadcast Mechanism\n",
    "#### Question: \n",
    "- Use the broadcast mechanism in NumPy to add b to **each row** of the matrix A, then print the new result matrix."
   ]
  },
  {
   "cell_type": "code",
   "execution_count": 95,
   "id": "8cf888d1",
   "metadata": {},
   "outputs": [
    {
     "name": "stdout",
     "output_type": "stream",
     "text": [
      "[[ 8 14 10 10]\n",
      " [ 8 13 10  5]\n",
      " [ 3  9  6  5]]\n"
     ]
    }
   ],
   "source": [
    "# Answer to sub-question 3\n",
    "# print(A.shape)\n",
    "# print(b.shape)\n",
    "new_matrix = A + b\n",
    "print(new_matrix)\n"
   ]
  },
  {
   "cell_type": "markdown",
   "id": "25291a1d",
   "metadata": {},
   "source": [
    "### (4) Dimension Manipulation Operation\n",
    "#### Question: \n",
    "- (Slice) Get the first and the third column of the Matrix A to construct a new matrix, then print it.\n",
    "- (Split) Split the Matrix A to three row vectors, then print them."
   ]
  },
  {
   "cell_type": "code",
   "execution_count": 96,
   "id": "9655de8a",
   "metadata": {},
   "outputs": [
    {
     "name": "stdout",
     "output_type": "stream",
     "text": [
      "Matrix built from first and thrid row of A\n",
      "[[1 7 3 3]\n",
      " [2 8 5 4]]\n",
      "\n",
      "Vector 0\n",
      "[[1]\n",
      " [7]\n",
      " [3]\n",
      " [3]]\n",
      "\n",
      "Vector 1\n",
      "[[4]\n",
      " [9]\n",
      " [6]\n",
      " [1]]\n",
      "\n",
      "Vector 2\n",
      "[[2]\n",
      " [8]\n",
      " [5]\n",
      " [4]]\n",
      "\n"
     ]
    }
   ],
   "source": [
    "# Answer to sub-question 4\n",
    "# print(A)\n",
    "# print(A[0].shape)\n",
    "A_row_1_and_3 = np.concatenate([A[0], A[2]])\n",
    "print(\"Matrix built from first and thrid row of A\")\n",
    "print(A_row_1_and_3)\n",
    "print()\n",
    "for i in range(A.shape[0]):\n",
    "    print(\"Vector \", i, sep=\"\")\n",
    "    temp_vector = A[i].reshape((A.shape[1],1))\n",
    "    # print(temp_vector.shape)\n",
    "    print(temp_vector)\n",
    "    print()\n"
   ]
  },
  {
   "cell_type": "markdown",
   "id": "e6ef0c10",
   "metadata": {},
   "source": [
    "### (5) Matrix Operation\n",
    "#### Question:\n",
    "- Execute the SVD decompositon to the matrix A, then print the results (i.e. unitary matrix and singular value vector)."
   ]
  },
  {
   "cell_type": "code",
   "execution_count": 97,
   "id": "97c2f133",
   "metadata": {},
   "outputs": [
    {
     "name": "stdout",
     "output_type": "stream",
     "text": [
      "Unitary Matrix U is\n",
      " [[-0.46553532 -0.4984117  -0.73134305]\n",
      " [-0.65418864  0.75034882 -0.09494137]\n",
      " [-0.59608228 -0.43423775  0.67536915]]\n",
      "Vector(s) with the singular values are: \n",
      " [17.33485114  3.09409544  0.96411065]\n",
      "Unitary Matrix Vh: \n",
      " [[-0.24658155 -0.80272413 -0.47892821 -0.25585012]\n",
      " [ 0.52826686 -0.06775631  0.27008511 -0.80212046]\n",
      " [ 0.24855007 -0.59217319  0.63599378  0.42786177]\n",
      " [ 0.77353379 -0.01933834 -0.54147365  0.32875186]]\n"
     ]
    }
   ],
   "source": [
    "# Answer to sub-question 5\n",
    "# print(A)\n",
    "SVD_ans = np.linalg.svd(A)\n",
    "U, S, Vh = SVD_ans\n",
    "print(\"Unitary Matrix U is\\n\", SVD_ans[0])\n",
    "# print(U.shape)\n",
    "print(\"Vector(s) with the singular values are: \\n\", SVD_ans[1])\n",
    "# print(S.shape)\n",
    "print(\"Unitary Matrix Vh: \\n\", SVD_ans[2])\n",
    "# print(Vh.shape)\n"
   ]
  },
  {
   "cell_type": "code",
   "execution_count": null,
   "id": "a00b18c4",
   "metadata": {},
   "outputs": [],
   "source": []
  }
 ],
 "metadata": {
  "kernelspec": {
   "display_name": "Python 3 (ipykernel)",
   "language": "python",
   "name": "python3"
  },
  "language_info": {
   "codemirror_mode": {
    "name": "ipython",
    "version": 3
   },
   "file_extension": ".py",
   "mimetype": "text/x-python",
   "name": "python",
   "nbconvert_exporter": "python",
   "pygments_lexer": "ipython3",
   "version": "3.9.7"
  }
 },
 "nbformat": 4,
 "nbformat_minor": 5
}
