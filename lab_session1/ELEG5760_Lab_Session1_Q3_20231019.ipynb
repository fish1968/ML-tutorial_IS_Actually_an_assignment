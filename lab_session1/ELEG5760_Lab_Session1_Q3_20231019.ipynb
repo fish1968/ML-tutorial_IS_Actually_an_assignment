{
 "cells": [
  {
   "cell_type": "markdown",
   "id": "58b1ee60",
   "metadata": {},
   "source": [
    "## Q3: (100 point) \n",
    "- Support Vector Machine. Please follow the instructions of Q3 to fulfill the demo code, then execute linear regression program and show related results."
   ]
  },
  {
   "cell_type": "markdown",
   "id": "69e46edc",
   "metadata": {},
   "source": [
    "### Instruction for Support Vector Machine\n",
    "\n",
    "\n",
    "#### Background\n",
    "You are given 100 two dimension data points with 2 classes injected by some noise. \n",
    "You need to train a support vector machine model with RBF kernel and try to tune hyper-parameter $C$ to improve its performance.\n",
    "\n",
    "\n",
    "\n",
    "#### Task\n",
    "1. The entire training program is provided, you should first implement some metrics on validation dataset to test model's performance.\n",
    "2. Then, you should try more choices about $C$ to find the best $C$ that maximizes your defined metric.\n",
    "\n",
    "\n",
    "#### System Requirements\n",
    "We require you use Python 3.x and related packages such as numpy, scikit-learn and matplotlib.\n",
    "\n",
    "\n",
    "\n",
    "#### Reference\n",
    "\n",
    "https://spin.atomicobject.com/wp-content/uploads/linear_regression_gradient1.png"
   ]
  },
  {
   "cell_type": "code",
   "execution_count": 20,
   "id": "dd2376cd",
   "metadata": {},
   "outputs": [
    {
     "name": "stdout",
     "output_type": "stream",
     "text": [
      "Load data successfully: total sample number=100\n",
      "Training SVM with C=1000.0 and metric=0.9500\n",
      "Training SVM with C=500 and metric=0.9500\n",
      "Training SVM with C=100 and metric=0.9500\n",
      "Training SVM with C=50 and metric=0.9500\n",
      "Training SVM with C=25 and metric=0.9500\n",
      "Training SVM with C=20 and metric=0.9500\n",
      "Training SVM with C=19.5 and metric=0.9500\n",
      "Training SVM with C=19 and metric=1.0000\n",
      "Training SVM with C=18.5 and metric=1.0000\n",
      "Training SVM with C=18 and metric=1.0000\n",
      "Training SVM with C=17 and metric=1.0000\n",
      "Training SVM with C=15 and metric=1.0000\n",
      "Training SVM with C=13 and metric=1.0000\n",
      "Training SVM with C=10 and metric=1.0000\n",
      "Training SVM with C=5 and metric=1.0000\n",
      "Training SVM with C=1 and metric=0.9500\n"
     ]
    },
    {
     "data": {
      "image/png": "[encoded data removed]",
      "text/plain": [
       "<Figure size 432x288 with 1 Axes>"
      ]
     },
     "metadata": {
      "needs_background": "light"
     },
     "output_type": "display_data"
    },
    {
     "name": "stdout",
     "output_type": "stream",
     "text": [
      "The final result: the best C for the validation set is: 19\n"
     ]
    }
   ],
   "source": [
    "import numpy as np\n",
    "import matplotlib.pyplot as plt\n",
    "import sklearn\n",
    "assert int(\"\".join(list(filter(str.isdigit, sklearn.__version__))))  >= 110, \"You need to install sklearn>=1.1.0, such as `pip3 install 'scikit-learn>=1.1.0'`\"\n",
    "from sklearn import svm, datasets\n",
    "from sklearn.datasets import make_blobs\n",
    "from sklearn.inspection import DecisionBoundaryDisplay\n",
    "\n",
    "\n",
    "# Overview: train and validate the SVC model with different datasets\n",
    "# Input: current parameters m and b; data points, learning rate;\n",
    "# Output: Updated new parameters m and b by using gradient descent.\n",
    "def train_and_validate(training_data, validation_data, C):\n",
    "    x, y = training_data\n",
    "    # train the model\n",
    "    clf = svm.SVC(kernel=\"rbf\", C=C)\n",
    "    clf.fit(x, y)\n",
    "    # validate\n",
    "    x, y = validation_data\n",
    "    prediction_y = clf.predict(x)\n",
    "    ### [TASK] You should implement metric to evaluate model's performance\n",
    "    \n",
    "    from sklearn.metrics import accuracy_score, precision_score, recall_score\n",
    "\n",
    "    accuracy = accuracy_score(y, prediction_y)  # Calculate accuracy\n",
    "    precision = precision_score(y, prediction_y, average='weighted')  # Calculate precision\n",
    "    recall = recall_score(y, prediction_y, average='weighted')  # Calculate recall\n",
    "    metric = accuracy # accuracy is used as the evaluation metric\n",
    "    return clf, metric\n",
    "    \n",
    "\n",
    "\n",
    "# Overview: draw the decision boundary and support vector\n",
    "# Input: classfication model and data to be plotted\n",
    "def draw_plot(clf, data):\n",
    "    # plot the decision function\n",
    "    x, y = data\n",
    "    plt.scatter(x[:, 0], x[:, 1], c=y, s=30, cmap=plt.cm.Paired)\n",
    "    \n",
    "    ax = plt.gca()\n",
    "    DecisionBoundaryDisplay.from_estimator(\n",
    "        clf,\n",
    "        x,\n",
    "        plot_method=\"contour\",\n",
    "        colors=\"k\",\n",
    "        levels=[-1, 0, 1],\n",
    "        alpha=0.5,\n",
    "        linestyles=[\"--\", \"-\", \"--\"],\n",
    "        ax=ax,\n",
    "    )\n",
    "    # plot support vectors\n",
    "    ax.scatter(\n",
    "        clf.support_vectors_[:, 0],\n",
    "        clf.support_vectors_[:, 1],\n",
    "        s=100,\n",
    "        linewidth=1,\n",
    "        facecolors=\"none\",\n",
    "        edgecolors=\"k\",\n",
    "    )\n",
    "    plt.show()\n",
    "\n",
    "\n",
    "def run():\n",
    "    # refer to API doc: https://scikit-learn.org/stable/modules/generated/sklearn.svm.SVC.html?highlight=svm\n",
    "    # set random seet for reproducibility\n",
    "    np.random.seed(42)\n",
    "    # generate data\n",
    "    N = 100\n",
    "    x, y = make_blobs(n_samples=N, centers=3, random_state=6)\n",
    "    # add some noise for construct more real data\n",
    "    x = x * np.random.uniform(0.7, 1.0, size=x.shape)\n",
    "    # divide training set and validation_set\n",
    "    sep = int(0.2 * N)\n",
    "    training_x, training_y = x[:-sep], y[:-sep]\n",
    "    validation_x, validation_y = x[-sep:], y[-sep:]\n",
    "    \n",
    "    print(\"Load data successfully: total sample number={}\".format(N))\n",
    "    # [TASK] You should try more C choice for better metric on validation dataset\n",
    "    proposed_C = [1000.0, 500, 100, 50, 25, 20, 19.5, 19, 18.5, 18, 17, 15, 13, 10, 5, 1]\n",
    "    best_metric = 0.\n",
    "    best_clf = None\n",
    "    best_C = None\n",
    "    for C in proposed_C:\n",
    "        clf, metric = train_and_validate((training_x, training_y), (validation_x, validation_y), C=C)\n",
    "        print('Training SVM with C={} and metric={:.4f}'.format(C, metric))\n",
    "        if metric > best_metric:\n",
    "            best_metric = metric\n",
    "            best_clf = clf\n",
    "            best_C = C\n",
    "    draw_plot(best_clf, (validation_x, validation_y))\n",
    "    print('The final result: the best C for the validation set is: {}'.format(best_C))\n",
    "\n",
    "\n",
    "if __name__ == '__main__':\n",
    "    run()\n"
   ]
  }
 ],
 "metadata": {
  "kernelspec": {
   "display_name": "Python 3 (ipykernel)",
   "language": "python",
   "name": "python3"
  },
  "language_info": {
   "codemirror_mode": {
    "name": "ipython",
    "version": 3
   },
   "file_extension": ".py",
   "mimetype": "text/x-python",
   "name": "python",
   "nbconvert_exporter": "python",
   "pygments_lexer": "ipython3",
   "version": "3.9.7"
  }
 },
 "nbformat": 4,
 "nbformat_minor": 5
}
